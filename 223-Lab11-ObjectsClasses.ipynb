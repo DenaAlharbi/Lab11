{
 "cells": [
  {
   "cell_type": "markdown",
   "metadata": {
    "slideshow": {
     "slide_type": "slide"
    }
   },
   "source": [
    "# ICS 104 - Introduction to Programming in Python and C\n",
    "## 223-Lab11-Objects and Classes"
   ]
  },
  {
   "cell_type": "markdown",
   "metadata": {
    "slideshow": {
     "slide_type": "slide"
    }
   },
   "source": [
    "# Lab Learning Outcomes\n",
    "- To understand the concepts of classes, objects and encapsulation\n",
    "- To implement instance variables, methods and constructors\n",
    "- To be able to design, implement and test your own classes"
   ]
  },
  {
   "cell_type": "markdown",
   "metadata": {
    "slideshow": {
     "slide_type": "slide"
    }
   },
   "source": [
    "# Exercises "
   ]
  },
  {
   "cell_type": "markdown",
   "metadata": {
    "slideshow": {
     "slide_type": "slide"
    }
   },
   "source": [
    "## Exercise # 1\n",
    "Define a class `Point` that represents a point in $2-D$ plane.  The point has $x$ and $y$ coordinates. Define the following:\n",
    "-\tA constructor to initialize the $x$, $y$ coordinates.\n",
    "-\tA method `distanceTo (self, anotherPoint)`  to return the distance between the point referenced by `self` and `anotherPoint`.\n",
    "-\t`getX(self)` to return the value of $x$ coordinate.\n",
    "-\t`getY(self)` to return the value of $y$ coordinate.<br> \n",
    "\n",
    "Test the above class by:\n",
    "- Creating 2 point objects; one with (3,5) as x,y coordinates; the second with (-10,30) as x,y coordinates.\n",
    "\n",
    "- Find the distance between the 2 points using distanceTo method\n",
    "\n",
    "A Sample output resulting from running the above test class is shown below\n",
    "\n",
    "point1 = (3.0 , 5.0)  \n",
    "\n",
    "point2 = (9.0 , 13.0)\n",
    "\n",
    "distance = 10.0  \n"
   ]
  },
  {
   "cell_type": "code",
   "execution_count": 18,
   "metadata": {
    "slideshow": {
     "slide_type": "fragment"
    }
   },
   "outputs": [
    {
     "name": "stdout",
     "output_type": "stream",
     "text": [
      "point1 = (3 , 5)\n",
      "point2 = (9 , 13)\n",
      "distance = 10.0\n"
     ]
    }
   ],
   "source": [
    "# YOUR CODE HERE\n",
    "import math\n",
    "\n",
    "class Point:\n",
    "    def __init__(self, x, y):\n",
    "        self.x = x\n",
    "        self.y = y\n",
    "\n",
    "    def distanceTo(self, anotherPoint):\n",
    "        out = math.sqrt((self.x - anotherPoint.x) ** 2 + (self.y - anotherPoint.y) ** 2)\n",
    "        return out\n",
    "\n",
    "    def getX(self):\n",
    "        return self.x\n",
    "\n",
    "    def getY(self):\n",
    "        return self.y\n",
    "    \n",
    "def main():\n",
    "\n",
    "    point1 = Point(3, 5)\n",
    "    point2 = Point(9, 13)\n",
    "\n",
    "    distance = point1.distanceTo(point2)\n",
    "\n",
    "    print(f\"point1 = ({point1.getX()} , {point1.getY()})\")\n",
    "    print(f\"point2 = ({point2.getX()} , {point2.getY()})\")\n",
    "    print(\"distance = %.1f\" %distance)\n",
    "\n",
    "main()\n",
    "\n",
    "    \n",
    "       \n"
   ]
  },
  {
   "cell_type": "markdown",
   "metadata": {
    "slideshow": {
     "slide_type": "slide"
    }
   },
   "source": [
    "## Exercise # 2\n",
    "Implement a `class` Car with the following properties. A car has a certain fuel efficiency (measured in km/liter) \n",
    "and a certain amount of fuel in the tank.\n",
    "The efficiency is specified in the constructor, and the initial fuel 0. \n",
    "Supply a method `drive` that simulates driving the car for a certain distance, reducing the fuel in the tank, \n",
    "a method `getFuel` to return the amount of fuel in the tank, \n",
    "and a method `addFuel` to fill the tank with an amount. \n",
    "\n",
    "Sample usage:\n",
    "```\n",
    "myCar = Car(50) # 50 km per liter\n",
    "\n",
    "myCar.addFuel(20) # fill tank with 20 liters\n",
    "\n",
    "myCar.drive(100) # Drive 100 km\n",
    "\n",
    "print(myCar.getFuel()) # Print fuel remaining\n",
    "```"
   ]
  },
  {
   "cell_type": "code",
   "execution_count": 8,
   "metadata": {
    "slideshow": {
     "slide_type": "fragment"
    }
   },
   "outputs": [
    {
     "name": "stdout",
     "output_type": "stream",
     "text": [
      "18.0\n"
     ]
    }
   ],
   "source": [
    "# YOUR CODE HERE\n",
    "class Car():\n",
    "\n",
    "    def __init__(self, initial = 0.0):\n",
    "        self.car_effeciency = initial\n",
    "        \n",
    "\n",
    "    def addFuel(self, plus_amount):\n",
    "        self.car_Fuel = int(plus_amount)\n",
    "\n",
    "         \n",
    "    \n",
    "    def drive(self, minus_amount):\n",
    "        self.car_driven = int(minus_amount)\n",
    "        \n",
    "    \n",
    "    def getFuel(self):\n",
    "        fuel_used = self.car_driven / self.car_effeciency\n",
    "        out = self.car_Fuel - fuel_used\n",
    "        return out\n",
    "    \n",
    "\n",
    "def main():\n",
    "    #test = int(input(\"Enter a number: \"))\n",
    "    myCar = Car(50) # 50 km per liter\n",
    "\n",
    "    myCar.addFuel(20) # fill tank with 20 liters\n",
    "\n",
    "    myCar.drive(100) # Drive 100 km\n",
    "\n",
    "    print(myCar.getFuel()) # Print fuel remaining\n",
    "\n",
    "main()\n",
    "\n",
    "\n",
    "\n"
   ]
  }
 ],
 "metadata": {
  "celltoolbar": "Slideshow",
  "kernelspec": {
   "display_name": "Python 3 (ipykernel)",
   "language": "python",
   "name": "python3"
  },
  "language_info": {
   "codemirror_mode": {
    "name": "ipython",
    "version": 3
   },
   "file_extension": ".py",
   "mimetype": "text/x-python",
   "name": "python",
   "nbconvert_exporter": "python",
   "pygments_lexer": "ipython3",
   "version": "3.11.4"
  },
  "rise": {
   "theme": "yellow"
  },
  "toc": {
   "base_numbering": 1,
   "nav_menu": {},
   "number_sections": true,
   "sideBar": false,
   "skip_h1_title": false,
   "title_cell": "Table of Contents",
   "title_sidebar": "Contents",
   "toc_cell": false,
   "toc_position": {
    "height": "789px",
    "left": "450px",
    "top": "145px",
    "width": "384px"
   },
   "toc_section_display": false,
   "toc_window_display": false
  },
  "varInspector": {
   "cols": {
    "lenName": 16,
    "lenType": 16,
    "lenVar": 40
   },
   "kernels_config": {
    "python": {
     "delete_cmd_postfix": "",
     "delete_cmd_prefix": "del ",
     "library": "var_list.py",
     "varRefreshCmd": "print(var_dic_list())"
    },
    "r": {
     "delete_cmd_postfix": ") ",
     "delete_cmd_prefix": "rm(",
     "library": "var_list.r",
     "varRefreshCmd": "cat(var_dic_list()) "
    }
   },
   "types_to_exclude": [
    "module",
    "function",
    "builtin_function_or_method",
    "instance",
    "_Feature"
   ],
   "window_display": false
  }
 },
 "nbformat": 4,
 "nbformat_minor": 4
}
